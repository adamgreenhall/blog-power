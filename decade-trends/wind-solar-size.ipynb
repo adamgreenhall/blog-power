{
 "cells": [
  {
   "cell_type": "code",
   "execution_count": 2,
   "metadata": {},
   "outputs": [],
   "source": [
    "from parse_generators import parse_generators"
   ]
  },
  {
   "cell_type": "code",
   "execution_count": 3,
   "metadata": {},
   "outputs": [],
   "source": [
    "df = parse_generators(2018)\n",
    "df['plant_id'] = df.index.str.split('_').str[0]"
   ]
  },
  {
   "cell_type": "code",
   "execution_count": 10,
   "metadata": {},
   "outputs": [],
   "source": [
    "wind = df[df.energy_source == 'wind']"
   ]
  },
  {
   "cell_type": "code",
   "execution_count": 13,
   "metadata": {},
   "outputs": [
    {
     "data": {
      "text/html": [
       "<div>\n",
       "<style scoped>\n",
       "    .dataframe tbody tr th:only-of-type {\n",
       "        vertical-align: middle;\n",
       "    }\n",
       "\n",
       "    .dataframe tbody tr th {\n",
       "        vertical-align: top;\n",
       "    }\n",
       "\n",
       "    .dataframe thead th {\n",
       "        text-align: right;\n",
       "    }\n",
       "</style>\n",
       "<table border=\"1\" class=\"dataframe\">\n",
       "  <thead>\n",
       "    <tr style=\"text-align: right;\">\n",
       "      <th></th>\n",
       "      <th>utility_name</th>\n",
       "      <th>plant_name</th>\n",
       "      <th>state</th>\n",
       "      <th>county</th>\n",
       "      <th>status</th>\n",
       "      <th>sector</th>\n",
       "      <th>nameplate_capacity</th>\n",
       "      <th>energy_source_1</th>\n",
       "      <th>operating_year</th>\n",
       "      <th>planned_retirement_year</th>\n",
       "      <th>energy_source</th>\n",
       "      <th>plant_id</th>\n",
       "    </tr>\n",
       "    <tr>\n",
       "      <th>generator_uuid</th>\n",
       "      <th></th>\n",
       "      <th></th>\n",
       "      <th></th>\n",
       "      <th></th>\n",
       "      <th></th>\n",
       "      <th></th>\n",
       "      <th></th>\n",
       "      <th></th>\n",
       "      <th></th>\n",
       "      <th></th>\n",
       "      <th></th>\n",
       "      <th></th>\n",
       "    </tr>\n",
       "  </thead>\n",
       "  <tbody>\n",
       "    <tr>\n",
       "      <th>944.0_10</th>\n",
       "      <td>City of Geneseo - (IL)</td>\n",
       "      <td>Geneseo</td>\n",
       "      <td>IL</td>\n",
       "      <td>Henry</td>\n",
       "      <td>OP</td>\n",
       "      <td>Electric Utility</td>\n",
       "      <td>1.5</td>\n",
       "      <td>WND</td>\n",
       "      <td>2009.0</td>\n",
       "      <td>NaN</td>\n",
       "      <td>wind</td>\n",
       "      <td>944.0</td>\n",
       "    </tr>\n",
       "    <tr>\n",
       "      <th>944.0_11</th>\n",
       "      <td>City of Geneseo - (IL)</td>\n",
       "      <td>Geneseo</td>\n",
       "      <td>IL</td>\n",
       "      <td>Henry</td>\n",
       "      <td>OP</td>\n",
       "      <td>Electric Utility</td>\n",
       "      <td>1.5</td>\n",
       "      <td>WND</td>\n",
       "      <td>2009.0</td>\n",
       "      <td>NaN</td>\n",
       "      <td>wind</td>\n",
       "      <td>944.0</td>\n",
       "    </tr>\n",
       "    <tr>\n",
       "      <th>90.0_EWT 1</th>\n",
       "      <td>Nome Joint Utility Systems</td>\n",
       "      <td>Snake River</td>\n",
       "      <td>AK</td>\n",
       "      <td>Nome</td>\n",
       "      <td>OP</td>\n",
       "      <td>Electric Utility</td>\n",
       "      <td>0.9</td>\n",
       "      <td>WND</td>\n",
       "      <td>2013.0</td>\n",
       "      <td>NaN</td>\n",
       "      <td>wind</td>\n",
       "      <td>90.0</td>\n",
       "    </tr>\n",
       "    <tr>\n",
       "      <th>90.0_EWT 2</th>\n",
       "      <td>Nome Joint Utility Systems</td>\n",
       "      <td>Snake River</td>\n",
       "      <td>AK</td>\n",
       "      <td>Nome</td>\n",
       "      <td>OP</td>\n",
       "      <td>Electric Utility</td>\n",
       "      <td>0.9</td>\n",
       "      <td>WND</td>\n",
       "      <td>2013.0</td>\n",
       "      <td>NaN</td>\n",
       "      <td>wind</td>\n",
       "      <td>90.0</td>\n",
       "    </tr>\n",
       "    <tr>\n",
       "      <th>7974.0_WTC2</th>\n",
       "      <td>Basin Electric Power Coop</td>\n",
       "      <td>Chamberlain Wind Project</td>\n",
       "      <td>SD</td>\n",
       "      <td>Brule</td>\n",
       "      <td>OP</td>\n",
       "      <td>Electric Utility</td>\n",
       "      <td>1.3</td>\n",
       "      <td>WND</td>\n",
       "      <td>2001.0</td>\n",
       "      <td>NaN</td>\n",
       "      <td>wind</td>\n",
       "      <td>7974.0</td>\n",
       "    </tr>\n",
       "  </tbody>\n",
       "</table>\n",
       "</div>"
      ],
      "text/plain": [
       "                              utility_name                plant_name state  \\\n",
       "generator_uuid                                                               \n",
       "944.0_10            City of Geneseo - (IL)                   Geneseo    IL   \n",
       "944.0_11            City of Geneseo - (IL)                   Geneseo    IL   \n",
       "90.0_EWT 1      Nome Joint Utility Systems               Snake River    AK   \n",
       "90.0_EWT 2      Nome Joint Utility Systems               Snake River    AK   \n",
       "7974.0_WTC2      Basin Electric Power Coop  Chamberlain Wind Project    SD   \n",
       "\n",
       "               county status            sector  nameplate_capacity  \\\n",
       "generator_uuid                                                       \n",
       "944.0_10        Henry     OP  Electric Utility                 1.5   \n",
       "944.0_11        Henry     OP  Electric Utility                 1.5   \n",
       "90.0_EWT 1       Nome     OP  Electric Utility                 0.9   \n",
       "90.0_EWT 2       Nome     OP  Electric Utility                 0.9   \n",
       "7974.0_WTC2     Brule     OP  Electric Utility                 1.3   \n",
       "\n",
       "               energy_source_1  operating_year  planned_retirement_year  \\\n",
       "generator_uuid                                                            \n",
       "944.0_10                   WND          2009.0                      NaN   \n",
       "944.0_11                   WND          2009.0                      NaN   \n",
       "90.0_EWT 1                 WND          2013.0                      NaN   \n",
       "90.0_EWT 2                 WND          2013.0                      NaN   \n",
       "7974.0_WTC2                WND          2001.0                      NaN   \n",
       "\n",
       "               energy_source plant_id  \n",
       "generator_uuid                         \n",
       "944.0_10                wind    944.0  \n",
       "944.0_11                wind    944.0  \n",
       "90.0_EWT 1              wind     90.0  \n",
       "90.0_EWT 2              wind     90.0  \n",
       "7974.0_WTC2             wind   7974.0  "
      ]
     },
     "execution_count": 13,
     "metadata": {},
     "output_type": "execute_result"
    }
   ],
   "source": [
    "wind.sort_values('plant_id', ascending=False).head()"
   ]
  },
  {
   "cell_type": "code",
   "execution_count": 26,
   "metadata": {},
   "outputs": [
    {
     "data": {
      "text/plain": [
       "count    589.000000\n",
       "mean     102.694228\n",
       "std       93.218158\n",
       "min        0.100000\n",
       "25%       20.000000\n",
       "50%       90.000000\n",
       "75%      162.000000\n",
       "max      600.000000\n",
       "Name: nameplate_capacity, dtype: float64"
      ]
     },
     "execution_count": 26,
     "metadata": {},
     "output_type": "execute_result"
    },
    {
     "data": {
      "image/png": "[encoded data removed]",
      "text/plain": [
       "<Figure size 432x288 with 1 Axes>"
      ]
     },
     "metadata": {
      "needs_background": "light"
     },
     "output_type": "display_data"
    }
   ],
   "source": [
    "wind_plant_capacity = df[\n",
    "    (df.operating_year >= 2010) & (df.energy_source == 'wind')\n",
    "].groupby('plant_id').nameplate_capacity.sum()\n",
    "wind_plant_capacity.hist(bins=20);\n",
    "wind_plant_capacity.describe()"
   ]
  },
  {
   "cell_type": "code",
   "execution_count": 29,
   "metadata": {},
   "outputs": [
    {
     "data": {
      "text/plain": [
       "count    1682.000000\n",
       "mean       12.792925\n",
       "std        28.485492\n",
       "min         0.100000\n",
       "25%         2.000000\n",
       "50%         4.400000\n",
       "75%         8.000000\n",
       "max       305.300000\n",
       "Name: nameplate_capacity, dtype: float64"
      ]
     },
     "execution_count": 29,
     "metadata": {},
     "output_type": "execute_result"
    },
    {
     "data": {
      "image/png": "[encoded data removed]",
      "text/plain": [
       "<Figure size 432x288 with 1 Axes>"
      ]
     },
     "metadata": {
      "needs_background": "light"
     },
     "output_type": "display_data"
    }
   ],
   "source": [
    "solar_plant_capacity = df[\n",
    "    (df.operating_year >= 2015) & (df.energy_source == 'solar')\n",
    "].groupby('plant_id').nameplate_capacity.sum()\n",
    "solar_plant_capacity.hist(bins=20);\n",
    "solar_plant_capacity.describe()"
   ]
  },
  {
   "cell_type": "code",
   "execution_count": 32,
   "metadata": {},
   "outputs": [
    {
     "data": {
      "text/html": [
       "<div>\n",
       "<style scoped>\n",
       "    .dataframe tbody tr th:only-of-type {\n",
       "        vertical-align: middle;\n",
       "    }\n",
       "\n",
       "    .dataframe tbody tr th {\n",
       "        vertical-align: top;\n",
       "    }\n",
       "\n",
       "    .dataframe thead th {\n",
       "        text-align: right;\n",
       "    }\n",
       "</style>\n",
       "<table border=\"1\" class=\"dataframe\">\n",
       "  <thead>\n",
       "    <tr style=\"text-align: right;\">\n",
       "      <th></th>\n",
       "      <th>nameplate_capacity</th>\n",
       "    </tr>\n",
       "    <tr>\n",
       "      <th>energy_source</th>\n",
       "      <th></th>\n",
       "    </tr>\n",
       "  </thead>\n",
       "  <tbody>\n",
       "    <tr>\n",
       "      <th>by-products</th>\n",
       "      <td>5.60</td>\n",
       "    </tr>\n",
       "    <tr>\n",
       "      <th>coal</th>\n",
       "      <td>723.45</td>\n",
       "    </tr>\n",
       "    <tr>\n",
       "      <th>hydro</th>\n",
       "      <td>8.00</td>\n",
       "    </tr>\n",
       "    <tr>\n",
       "      <th>natural gas</th>\n",
       "      <td>224.35</td>\n",
       "    </tr>\n",
       "    <tr>\n",
       "      <th>nuclear</th>\n",
       "      <td>1749.10</td>\n",
       "    </tr>\n",
       "    <tr>\n",
       "      <th>oil</th>\n",
       "      <td>8.75</td>\n",
       "    </tr>\n",
       "    <tr>\n",
       "      <th>other</th>\n",
       "      <td>29.80</td>\n",
       "    </tr>\n",
       "    <tr>\n",
       "      <th>solar</th>\n",
       "      <td>3.50</td>\n",
       "    </tr>\n",
       "    <tr>\n",
       "      <th>storage</th>\n",
       "      <td>4.00</td>\n",
       "    </tr>\n",
       "    <tr>\n",
       "      <th>wind</th>\n",
       "      <td>65.00</td>\n",
       "    </tr>\n",
       "  </tbody>\n",
       "</table>\n",
       "</div>"
      ],
      "text/plain": [
       "               nameplate_capacity\n",
       "energy_source                    \n",
       "by-products                  5.60\n",
       "coal                       723.45\n",
       "hydro                        8.00\n",
       "natural gas                224.35\n",
       "nuclear                   1749.10\n",
       "oil                          8.75\n",
       "other                       29.80\n",
       "solar                        3.50\n",
       "storage                      4.00\n",
       "wind                        65.00"
      ]
     },
     "execution_count": 32,
     "metadata": {},
     "output_type": "execute_result"
    }
   ],
   "source": [
    "df.groupby(['plant_id', 'energy_source']).nameplate_capacity.sum().reset_index().groupby('energy_source').median()"
   ]
  },
  {
   "cell_type": "code",
   "execution_count": 34,
   "metadata": {},
   "outputs": [
    {
     "data": {
      "text/plain": [
       "energy_source\n",
       "by-products      6517.4\n",
       "coal           254839.4\n",
       "hydro           97028.8\n",
       "natural gas    477153.6\n",
       "nuclear        104270.2\n",
       "oil             31738.3\n",
       "other            3731.3\n",
       "solar           31841.5\n",
       "storage           888.9\n",
       "wind            94725.8\n",
       "Name: nameplate_capacity, dtype: float64"
      ]
     },
     "execution_count": 34,
     "metadata": {},
     "output_type": "execute_result"
    }
   ],
   "source": [
    "capacity_by_source = df.groupby('energy_source').nameplate_capacity.sum()\n",
    "capacity_by_source"
   ]
  },
  {
   "cell_type": "code",
   "execution_count": 35,
   "metadata": {},
   "outputs": [
    {
     "data": {
      "text/plain": [
       "1102735.2000000014"
      ]
     },
     "execution_count": 35,
     "metadata": {},
     "output_type": "execute_result"
    }
   ],
   "source": [
    "capacity_by_source.sum()"
   ]
  },
  {
   "cell_type": "code",
   "execution_count": 45,
   "metadata": {},
   "outputs": [
    {
     "data": {
      "text/plain": [
       "energy_source\n",
       "by-products     356\n",
       "coal            264\n",
       "hydro          1237\n",
       "natural gas    1203\n",
       "nuclear          60\n",
       "oil             605\n",
       "other            68\n",
       "solar          2559\n",
       "storage          98\n",
       "wind           1054\n",
       "Name: plant_id, dtype: int64"
      ]
     },
     "execution_count": 45,
     "metadata": {},
     "output_type": "execute_result"
    }
   ],
   "source": [
    "# number of plants\n",
    "df[df.nameplate_capacity >= 1].groupby('energy_source').plant_id.nunique()"
   ]
  },
  {
   "cell_type": "code",
   "execution_count": null,
   "metadata": {},
   "outputs": [],
   "source": []
  }
 ],
 "metadata": {
  "kernelspec": {
   "display_name": "Python 3",
   "language": "python",
   "name": "python3"
  },
  "language_info": {
   "codemirror_mode": {
    "name": "ipython",
    "version": 3
   },
   "file_extension": ".py",
   "mimetype": "text/x-python",
   "name": "python",
   "nbconvert_exporter": "python",
   "pygments_lexer": "ipython3",
   "version": "3.8.5"
  }
 },
 "nbformat": 4,
 "nbformat_minor": 4
}
