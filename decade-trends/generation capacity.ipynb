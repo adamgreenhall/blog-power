{
 "cells": [
  {
   "cell_type": "code",
   "execution_count": 1,
   "metadata": {},
   "outputs": [],
   "source": [
    "import numpy as np\n",
    "import pandas as pd\n",
    "from matplotlib import pyplot as plt\n",
    "\n",
    "from parse_generators import parse_generators, parse_proposed, parse_retired"
   ]
  },
  {
   "cell_type": "code",
   "execution_count": 2,
   "metadata": {},
   "outputs": [],
   "source": [
    "capacity_by_year = {}\n",
    "plant_age_by_year = {}\n",
    "df_by_year = {}\n",
    "YEARS = [2010, 2018]"
   ]
  },
  {
   "cell_type": "code",
   "execution_count": 3,
   "metadata": {},
   "outputs": [],
   "source": [
    "# source: https://www.eia.gov/electricity/data/eia860/\n",
    "for year in YEARS:\n",
    "    df_by_year[year] = parse_generators(year)\n",
    "df_proposed = parse_proposed(2018)"
   ]
  },
  {
   "cell_type": "code",
   "execution_count": 4,
   "metadata": {},
   "outputs": [
    {
     "data": {
      "text/html": [
       "<div>\n",
       "<style scoped>\n",
       "    .dataframe tbody tr th:only-of-type {\n",
       "        vertical-align: middle;\n",
       "    }\n",
       "\n",
       "    .dataframe tbody tr th {\n",
       "        vertical-align: top;\n",
       "    }\n",
       "\n",
       "    .dataframe thead th {\n",
       "        text-align: right;\n",
       "    }\n",
       "</style>\n",
       "<table border=\"1\" class=\"dataframe\">\n",
       "  <thead>\n",
       "    <tr style=\"text-align: right;\">\n",
       "      <th></th>\n",
       "      <th>utility_name</th>\n",
       "      <th>plant_name</th>\n",
       "      <th>state</th>\n",
       "      <th>county</th>\n",
       "      <th>status</th>\n",
       "      <th>sector</th>\n",
       "      <th>nameplate_capacity</th>\n",
       "      <th>energy_source_1</th>\n",
       "      <th>operating_year</th>\n",
       "      <th>planned_retirement_year</th>\n",
       "      <th>energy_source</th>\n",
       "    </tr>\n",
       "    <tr>\n",
       "      <th>generator_uuid</th>\n",
       "      <th></th>\n",
       "      <th></th>\n",
       "      <th></th>\n",
       "      <th></th>\n",
       "      <th></th>\n",
       "      <th></th>\n",
       "      <th></th>\n",
       "      <th></th>\n",
       "      <th></th>\n",
       "      <th></th>\n",
       "      <th></th>\n",
       "    </tr>\n",
       "  </thead>\n",
       "  <tbody>\n",
       "    <tr>\n",
       "      <th>508_T1-T3</th>\n",
       "      <td>City of Lamar</td>\n",
       "      <td>Lamar Plant</td>\n",
       "      <td>CO</td>\n",
       "      <td>Prowers</td>\n",
       "      <td>OP</td>\n",
       "      <td>Electric Utility</td>\n",
       "      <td>4.5</td>\n",
       "      <td>WND</td>\n",
       "      <td>2004</td>\n",
       "      <td>NaN</td>\n",
       "      <td>wind</td>\n",
       "    </tr>\n",
       "    <tr>\n",
       "      <th>508_T4</th>\n",
       "      <td>City of Lamar</td>\n",
       "      <td>Lamar Plant</td>\n",
       "      <td>CO</td>\n",
       "      <td>Prowers</td>\n",
       "      <td>OP</td>\n",
       "      <td>Electric Utility</td>\n",
       "      <td>1.5</td>\n",
       "      <td>WND</td>\n",
       "      <td>2004</td>\n",
       "      <td>NaN</td>\n",
       "      <td>wind</td>\n",
       "    </tr>\n",
       "    <tr>\n",
       "      <th>692_10</th>\n",
       "      <td>Platte River Power Authority</td>\n",
       "      <td>Medicine Bow</td>\n",
       "      <td>WY</td>\n",
       "      <td>Carbon</td>\n",
       "      <td>OP</td>\n",
       "      <td>Electric Utility</td>\n",
       "      <td>0.7</td>\n",
       "      <td>WND</td>\n",
       "      <td>2000</td>\n",
       "      <td>NaN</td>\n",
       "      <td>wind</td>\n",
       "    </tr>\n",
       "    <tr>\n",
       "      <th>692_11</th>\n",
       "      <td>Platte River Power Authority</td>\n",
       "      <td>Medicine Bow</td>\n",
       "      <td>WY</td>\n",
       "      <td>Carbon</td>\n",
       "      <td>OP</td>\n",
       "      <td>Electric Utility</td>\n",
       "      <td>0.7</td>\n",
       "      <td>WND</td>\n",
       "      <td>2000</td>\n",
       "      <td>NaN</td>\n",
       "      <td>wind</td>\n",
       "    </tr>\n",
       "    <tr>\n",
       "      <th>692_1A</th>\n",
       "      <td>Platte River Power Authority</td>\n",
       "      <td>Medicine Bow</td>\n",
       "      <td>WY</td>\n",
       "      <td>Carbon</td>\n",
       "      <td>OP</td>\n",
       "      <td>Electric Utility</td>\n",
       "      <td>0.6</td>\n",
       "      <td>WND</td>\n",
       "      <td>1998</td>\n",
       "      <td>NaN</td>\n",
       "      <td>wind</td>\n",
       "    </tr>\n",
       "  </tbody>\n",
       "</table>\n",
       "</div>"
      ],
      "text/plain": [
       "                                utility_name    plant_name state   county  \\\n",
       "generator_uuid                                                              \n",
       "508_T1-T3                      City of Lamar   Lamar Plant    CO  Prowers   \n",
       "508_T4                         City of Lamar   Lamar Plant    CO  Prowers   \n",
       "692_10          Platte River Power Authority  Medicine Bow    WY   Carbon   \n",
       "692_11          Platte River Power Authority  Medicine Bow    WY   Carbon   \n",
       "692_1A          Platte River Power Authority  Medicine Bow    WY   Carbon   \n",
       "\n",
       "               status            sector  nameplate_capacity energy_source_1  \\\n",
       "generator_uuid                                                                \n",
       "508_T1-T3          OP  Electric Utility                 4.5             WND   \n",
       "508_T4             OP  Electric Utility                 1.5             WND   \n",
       "692_10             OP  Electric Utility                 0.7             WND   \n",
       "692_11             OP  Electric Utility                 0.7             WND   \n",
       "692_1A             OP  Electric Utility                 0.6             WND   \n",
       "\n",
       "                operating_year  planned_retirement_year energy_source  \n",
       "generator_uuid                                                         \n",
       "508_T1-T3                 2004                      NaN          wind  \n",
       "508_T4                    2004                      NaN          wind  \n",
       "692_10                    2000                      NaN          wind  \n",
       "692_11                    2000                      NaN          wind  \n",
       "692_1A                    1998                      NaN          wind  "
      ]
     },
     "execution_count": 4,
     "metadata": {},
     "output_type": "execute_result"
    }
   ],
   "source": [
    "df_by_year[2010][\n",
    "    df_by_year[2010].energy_source == 'wind'\n",
    "].head()"
   ]
  },
  {
   "cell_type": "markdown",
   "metadata": {},
   "source": [
    "## capacity"
   ]
  },
  {
   "cell_type": "code",
   "execution_count": 5,
   "metadata": {},
   "outputs": [],
   "source": [
    "for year in YEARS:\n",
    "    capacity_by_year[year] = df_by_year[year].groupby('energy_source').nameplate_capacity.sum().sort_values(ascending=False).round().astype(int)"
   ]
  },
  {
   "cell_type": "markdown",
   "metadata": {},
   "source": [
    "## plant age"
   ]
  },
  {
   "cell_type": "code",
   "execution_count": 6,
   "metadata": {},
   "outputs": [],
   "source": [
    "for year in YEARS:\n",
    "    grp = df_by_year[year].assign(age_weighted=(year - df_by_year[year].operating_year) * df_by_year[year].nameplate_capacity).groupby('energy_source')\n",
    "    plant_age_by_year[year] = (grp.age_weighted.sum() / grp.nameplate_capacity.sum()).round(1).loc[capacity_by_year[year].index]"
   ]
  },
  {
   "cell_type": "code",
   "execution_count": 7,
   "metadata": {},
   "outputs": [
    {
     "name": "stdout",
     "output_type": "stream",
     "text": [
      "additions:\n",
      "energy_source\n",
      "natural gas    13106.0\n",
      "wind           10876.0\n",
      "solar           7924.5\n",
      "coal             850.0\n",
      "by-products      197.5\n",
      "storage          131.8\n",
      "other             50.9\n",
      "oil               35.7\n",
      "hydro             32.4\n",
      "Name: nameplate_capacity, dtype: float64\n",
      "retirements:\n",
      "energy_source\n",
      "coal           19416.5\n",
      "natural gas     7802.0\n",
      "nuclear         4554.5\n",
      "by-products      235.9\n",
      "hydro            124.4\n",
      "oil              116.0\n",
      "wind              75.0\n",
      "solar              9.4\n",
      "other              5.1\n",
      "Name: nameplate_capacity, dtype: float64\n"
     ]
    }
   ],
   "source": [
    "df = df_by_year[2018]\n",
    "# planned additions\n",
    "planned_additions = df_proposed[\n",
    "    (df_proposed.effective_year >= year) & (df_proposed.effective_year <= 2020)\n",
    "].groupby('energy_source').nameplate_capacity.sum()\n",
    "print('additions:')\n",
    "print(planned_additions.sort_values(ascending=False))\n",
    "\n",
    "# retirements\n",
    "retirements = df[df.planned_retirement_year <= 2020].groupby('energy_source').nameplate_capacity.sum()\n",
    "print('retirements:')\n",
    "print(retirements.sort_values(ascending=False))\n",
    "\n",
    "# planned additions\n",
    "capacity_by_year['2020 est'] = (capacity_by_year[year] + planned_additions.reindex_like(capacity_by_year[year]).fillna(0) - retirements.reindex_like(capacity_by_year[year]).fillna(0)).round().astype(int)"
   ]
  },
  {
   "cell_type": "markdown",
   "metadata": {},
   "source": [
    "# results"
   ]
  },
  {
   "cell_type": "code",
   "execution_count": 8,
   "metadata": {},
   "outputs": [
    {
     "name": "stdout",
     "output_type": "stream",
     "text": [
      "                 2010    2018  2020 est\n",
      "energy_source                          \n",
      "natural gas    395185  477154    482458\n",
      "coal           329752  254839    236272\n",
      "nuclear        106731  104270     99716\n",
      "hydro           97463   97029     96937\n",
      "wind            39318   94726    105527\n",
      "solar             901   31842     39757\n",
      "oil             54449   31738     31658\n",
      "by-products      5497    6517      6479\n",
      "other            4720    3731      3777\n",
      "storage            29     889      1021\n"
     ]
    }
   ],
   "source": [
    "df_capacity_by_year = pd.DataFrame(capacity_by_year).loc[capacity_by_year[2018].index]\n",
    "print(df_capacity_by_year)"
   ]
  },
  {
   "cell_type": "code",
   "execution_count": 9,
   "metadata": {},
   "outputs": [
    {
     "name": "stdout",
     "output_type": "stream",
     "text": [
      "                2010   2018  2020 est\n",
      "energy_source                        \n",
      "natural gas    0.382  0.433     0.437\n",
      "coal           0.319  0.231     0.214\n",
      "nuclear        0.103  0.095     0.090\n",
      "hydro          0.094  0.088     0.088\n",
      "wind           0.038  0.086     0.096\n",
      "solar          0.001  0.029     0.036\n",
      "oil            0.053  0.029     0.029\n",
      "by-products    0.005  0.006     0.006\n",
      "other          0.005  0.003     0.003\n",
      "storage        0.000  0.001     0.001\n"
     ]
    }
   ],
   "source": [
    "print((df_capacity_by_year.div(df_capacity_by_year.sum(axis=0), axis=1)).round(3))"
   ]
  },
  {
   "cell_type": "markdown",
   "metadata": {},
   "source": [
    "coal plants are getting older"
   ]
  },
  {
   "cell_type": "code",
   "execution_count": 10,
   "metadata": {},
   "outputs": [
    {
     "name": "stdout",
     "output_type": "stream",
     "text": [
      "               2010  2018\n",
      "energy_source            \n",
      "natural gas    16.9  20.5\n",
      "coal           36.3  39.5\n",
      "nuclear        29.2  36.7\n",
      "hydro          46.6  53.5\n",
      "wind            3.5   6.7\n",
      "solar          10.5   2.9\n",
      "oil            34.5  39.5\n",
      "by-products    19.2  22.1\n",
      "other          20.9  26.2\n",
      "storage         6.6   2.9\n"
     ]
    }
   ],
   "source": [
    "print(pd.DataFrame(plant_age_by_year).loc[capacity_by_year[2018].index][YEARS])"
   ]
  },
  {
   "cell_type": "markdown",
   "metadata": {},
   "source": [
    "## capacity additions by year"
   ]
  },
  {
   "cell_type": "code",
   "execution_count": 29,
   "metadata": {},
   "outputs": [
    {
     "data": {
      "image/png": "[encoded data removed]",
      "text/plain": [
       "<Figure size 864x576 with 5 Axes>"
      ]
     },
     "metadata": {
      "needs_background": "light"
     },
     "output_type": "display_data"
    }
   ],
   "source": [
    "# huge NG capacity build out in 2000-2004 appears to be related to low inflation and natural gas prices\n",
    "# might be an artifact, but does appear in 2010 and 2018 data\n",
    "built_year = (\n",
    "    df.groupby(['operating_year', 'energy_source']).nameplate_capacity.sum().unstack() / 1000\n",
    ").fillna(0).loc[1950:][[\n",
    "    'natural gas',\n",
    "    'coal',\n",
    "    'wind',\n",
    "    'solar', \n",
    "    'nuclear',\n",
    "    # 'oil',\n",
    "]]\n",
    "# built_year.loc[2000:2004, \"natural gas\"] = np.nan\n",
    "built_year.index = pd.to_datetime(built_year.index.astype(int).astype(str))\n",
    "axes = built_year.plot(subplots=True, figsize=(12, 8))\n",
    "axes[2].set_ylabel('capacity by year built, GW')\n",
    "for ax in axes:\n",
    "    ax.legend(loc='center left');\n",
    "    \n",
    "plt.savefig('generation-capacity.png')"
   ]
  },
  {
   "cell_type": "code",
   "execution_count": 26,
   "metadata": {},
   "outputs": [],
   "source": [
    "plt.savefig?"
   ]
  },
  {
   "cell_type": "code",
   "execution_count": 21,
   "metadata": {},
   "outputs": [],
   "source": [
    "## biggest year, renewables"
   ]
  },
  {
   "cell_type": "code",
   "execution_count": 24,
   "metadata": {},
   "outputs": [
    {
     "data": {
      "text/html": [
       "<div>\n",
       "<style scoped>\n",
       "    .dataframe tbody tr th:only-of-type {\n",
       "        vertical-align: middle;\n",
       "    }\n",
       "\n",
       "    .dataframe tbody tr th {\n",
       "        vertical-align: top;\n",
       "    }\n",
       "\n",
       "    .dataframe thead th {\n",
       "        text-align: right;\n",
       "    }\n",
       "</style>\n",
       "<table border=\"1\" class=\"dataframe\">\n",
       "  <thead>\n",
       "    <tr style=\"text-align: right;\">\n",
       "      <th>energy_source</th>\n",
       "      <th>natural gas</th>\n",
       "      <th>coal</th>\n",
       "      <th>wind</th>\n",
       "      <th>solar</th>\n",
       "      <th>nuclear</th>\n",
       "    </tr>\n",
       "  </thead>\n",
       "  <tbody>\n",
       "    <tr>\n",
       "      <th>2000-01-01</th>\n",
       "      <td>26.9798</td>\n",
       "      <td>0.0180</td>\n",
       "      <td>0.0391</td>\n",
       "      <td>0.0000</td>\n",
       "      <td>0.0</td>\n",
       "    </tr>\n",
       "    <tr>\n",
       "      <th>2001-01-01</th>\n",
       "      <td>38.3031</td>\n",
       "      <td>0.5137</td>\n",
       "      <td>1.5068</td>\n",
       "      <td>0.0039</td>\n",
       "      <td>0.0</td>\n",
       "    </tr>\n",
       "    <tr>\n",
       "      <th>2002-01-01</th>\n",
       "      <td>59.2114</td>\n",
       "      <td>0.0000</td>\n",
       "      <td>0.6577</td>\n",
       "      <td>0.0021</td>\n",
       "      <td>0.0</td>\n",
       "    </tr>\n",
       "    <tr>\n",
       "      <th>2003-01-01</th>\n",
       "      <td>49.6144</td>\n",
       "      <td>0.0900</td>\n",
       "      <td>1.5596</td>\n",
       "      <td>0.0000</td>\n",
       "      <td>0.0</td>\n",
       "    </tr>\n",
       "    <tr>\n",
       "      <th>2004-01-01</th>\n",
       "      <td>21.4370</td>\n",
       "      <td>0.5850</td>\n",
       "      <td>0.3750</td>\n",
       "      <td>0.0000</td>\n",
       "      <td>0.0</td>\n",
       "    </tr>\n",
       "  </tbody>\n",
       "</table>\n",
       "</div>"
      ],
      "text/plain": [
       "energy_source  natural gas    coal    wind   solar  nuclear\n",
       "2000-01-01         26.9798  0.0180  0.0391  0.0000      0.0\n",
       "2001-01-01         38.3031  0.5137  1.5068  0.0039      0.0\n",
       "2002-01-01         59.2114  0.0000  0.6577  0.0021      0.0\n",
       "2003-01-01         49.6144  0.0900  1.5596  0.0000      0.0\n",
       "2004-01-01         21.4370  0.5850  0.3750  0.0000      0.0"
      ]
     },
     "execution_count": 24,
     "metadata": {},
     "output_type": "execute_result"
    }
   ],
   "source": [
    "built_year.loc['2000':'2004']"
   ]
  },
  {
   "cell_type": "code",
   "execution_count": 25,
   "metadata": {},
   "outputs": [
    {
     "data": {
      "text/html": [
       "<div>\n",
       "<style scoped>\n",
       "    .dataframe tbody tr th:only-of-type {\n",
       "        vertical-align: middle;\n",
       "    }\n",
       "\n",
       "    .dataframe tbody tr th {\n",
       "        vertical-align: top;\n",
       "    }\n",
       "\n",
       "    .dataframe thead th {\n",
       "        text-align: right;\n",
       "    }\n",
       "</style>\n",
       "<table border=\"1\" class=\"dataframe\">\n",
       "  <thead>\n",
       "    <tr style=\"text-align: right;\">\n",
       "      <th>energy_source</th>\n",
       "      <th>wind</th>\n",
       "      <th>solar</th>\n",
       "    </tr>\n",
       "  </thead>\n",
       "  <tbody>\n",
       "    <tr>\n",
       "      <th>2010-01-01</th>\n",
       "      <td>4.6393</td>\n",
       "      <td>0.2132</td>\n",
       "    </tr>\n",
       "    <tr>\n",
       "      <th>2011-01-01</th>\n",
       "      <td>6.8634</td>\n",
       "      <td>0.7506</td>\n",
       "    </tr>\n",
       "    <tr>\n",
       "      <th>2012-01-01</th>\n",
       "      <td>13.2559</td>\n",
       "      <td>1.5608</td>\n",
       "    </tr>\n",
       "    <tr>\n",
       "      <th>2013-01-01</th>\n",
       "      <td>0.8525</td>\n",
       "      <td>3.4714</td>\n",
       "    </tr>\n",
       "    <tr>\n",
       "      <th>2014-01-01</th>\n",
       "      <td>4.9395</td>\n",
       "      <td>3.7551</td>\n",
       "    </tr>\n",
       "    <tr>\n",
       "      <th>2015-01-01</th>\n",
       "      <td>8.2449</td>\n",
       "      <td>3.4920</td>\n",
       "    </tr>\n",
       "    <tr>\n",
       "      <th>2016-01-01</th>\n",
       "      <td>8.7821</td>\n",
       "      <td>8.0965</td>\n",
       "    </tr>\n",
       "    <tr>\n",
       "      <th>2017-01-01</th>\n",
       "      <td>6.0435</td>\n",
       "      <td>5.0403</td>\n",
       "    </tr>\n",
       "    <tr>\n",
       "      <th>2018-01-01</th>\n",
       "      <td>6.8658</td>\n",
       "      <td>4.8889</td>\n",
       "    </tr>\n",
       "  </tbody>\n",
       "</table>\n",
       "</div>"
      ],
      "text/plain": [
       "energy_source     wind   solar\n",
       "2010-01-01      4.6393  0.2132\n",
       "2011-01-01      6.8634  0.7506\n",
       "2012-01-01     13.2559  1.5608\n",
       "2013-01-01      0.8525  3.4714\n",
       "2014-01-01      4.9395  3.7551\n",
       "2015-01-01      8.2449  3.4920\n",
       "2016-01-01      8.7821  8.0965\n",
       "2017-01-01      6.0435  5.0403\n",
       "2018-01-01      6.8658  4.8889"
      ]
     },
     "execution_count": 25,
     "metadata": {},
     "output_type": "execute_result"
    }
   ],
   "source": [
    "built_year.loc['2010':][['wind', 'solar']]"
   ]
  },
  {
   "cell_type": "markdown",
   "metadata": {},
   "source": [
    "# other"
   ]
  },
  {
   "cell_type": "code",
   "execution_count": 12,
   "metadata": {},
   "outputs": [
    {
     "data": {
      "text/plain": [
       "state\n",
       "TX    112027.2\n",
       "CA     71616.4\n",
       "FL     61531.9\n",
       "PA     50632.4\n",
       "IL     48692.9\n",
       "NY     38075.0\n",
       "GA     37879.4\n",
       "NC     35315.7\n",
       "OH     31554.5\n",
       "AZ     31407.7\n",
       "Name: nameplate_capacity, dtype: float64"
      ]
     },
     "execution_count": 12,
     "metadata": {},
     "output_type": "execute_result"
    }
   ],
   "source": [
    "df_by_year[2018].groupby('state').nameplate_capacity.sum().sort_values(ascending=False).head(10)"
   ]
  },
  {
   "cell_type": "code",
   "execution_count": 13,
   "metadata": {},
   "outputs": [
    {
     "name": "stdout",
     "output_type": "stream",
     "text": [
      "168.56590000000003\n"
     ]
    }
   ],
   "source": [
    "# the 2001-2004 boom NG capacity boom doesn't seem right\n",
    "ng_boom = df[(df.energy_source == 'natural gas') & (df.operating_year > 2000) & (df.operating_year < 2005)]\n",
    "print(ng_boom.nameplate_capacity.sum() / 1000)\n",
    "# 168 GW is way too much"
   ]
  },
  {
   "cell_type": "code",
   "execution_count": 14,
   "metadata": {},
   "outputs": [
    {
     "data": {
      "text/plain": [
       "sector\n",
       "Electric Utility    75752.2\n",
       "IPP Non-CHP         92813.7\n",
       "Name: nameplate_capacity, dtype: float64"
      ]
     },
     "execution_count": 14,
     "metadata": {},
     "output_type": "execute_result"
    }
   ],
   "source": [
    "# most of this is non-utility, and the rules changed in 2000 for what got recorded where\n",
    "ng_boom.groupby('sector').nameplate_capacity.sum()#.sort_values(ascending=False).head(30)"
   ]
  },
  {
   "cell_type": "code",
   "execution_count": 15,
   "metadata": {},
   "outputs": [
    {
     "data": {
      "text/html": [
       "<div>\n",
       "<style scoped>\n",
       "    .dataframe tbody tr th:only-of-type {\n",
       "        vertical-align: middle;\n",
       "    }\n",
       "\n",
       "    .dataframe tbody tr th {\n",
       "        vertical-align: top;\n",
       "    }\n",
       "\n",
       "    .dataframe thead th {\n",
       "        text-align: right;\n",
       "    }\n",
       "</style>\n",
       "<table border=\"1\" class=\"dataframe\">\n",
       "  <thead>\n",
       "    <tr style=\"text-align: right;\">\n",
       "      <th></th>\n",
       "      <th>utility_name</th>\n",
       "      <th>plant_name</th>\n",
       "      <th>state</th>\n",
       "      <th>county</th>\n",
       "      <th>status</th>\n",
       "      <th>sector</th>\n",
       "      <th>nameplate_capacity</th>\n",
       "      <th>energy_source_1</th>\n",
       "      <th>operating_year</th>\n",
       "      <th>planned_retirement_year</th>\n",
       "      <th>energy_source</th>\n",
       "    </tr>\n",
       "    <tr>\n",
       "      <th>generator_uuid</th>\n",
       "      <th></th>\n",
       "      <th></th>\n",
       "      <th></th>\n",
       "      <th></th>\n",
       "      <th></th>\n",
       "      <th></th>\n",
       "      <th></th>\n",
       "      <th></th>\n",
       "      <th></th>\n",
       "      <th></th>\n",
       "      <th></th>\n",
       "    </tr>\n",
       "  </thead>\n",
       "  <tbody>\n",
       "    <tr>\n",
       "      <th>55503.0_ST1</th>\n",
       "      <td>Waterford Power, LLC</td>\n",
       "      <td>Waterford Power, LLC</td>\n",
       "      <td>OH</td>\n",
       "      <td>Washington</td>\n",
       "      <td>OP</td>\n",
       "      <td>IPP Non-CHP</td>\n",
       "      <td>399.0</td>\n",
       "      <td>NG</td>\n",
       "      <td>2003.0</td>\n",
       "      <td>NaN</td>\n",
       "      <td>natural gas</td>\n",
       "    </tr>\n",
       "    <tr>\n",
       "      <th>55439.0_STG1</th>\n",
       "      <td>Tenaska Virginia Partners LP</td>\n",
       "      <td>Tenaska Virginia Generating Station</td>\n",
       "      <td>VA</td>\n",
       "      <td>Fluvanna</td>\n",
       "      <td>OP</td>\n",
       "      <td>IPP Non-CHP</td>\n",
       "      <td>396.2</td>\n",
       "      <td>NG</td>\n",
       "      <td>2004.0</td>\n",
       "      <td>NaN</td>\n",
       "      <td>natural gas</td>\n",
       "    </tr>\n",
       "    <tr>\n",
       "      <th>55271.0_STG1</th>\n",
       "      <td>Tenaska Alabama Partners LP</td>\n",
       "      <td>Tenaska Lindsay Hill Generating Station</td>\n",
       "      <td>AL</td>\n",
       "      <td>Autauga</td>\n",
       "      <td>OP</td>\n",
       "      <td>IPP Non-CHP</td>\n",
       "      <td>390.1</td>\n",
       "      <td>NG</td>\n",
       "      <td>2002.0</td>\n",
       "      <td>NaN</td>\n",
       "      <td>natural gas</td>\n",
       "    </tr>\n",
       "    <tr>\n",
       "      <th>55440.0_ST1</th>\n",
       "      <td>Tenaska Alabama B LP</td>\n",
       "      <td>Tenaska Central Alabama Generating Stn</td>\n",
       "      <td>AL</td>\n",
       "      <td>Autauga</td>\n",
       "      <td>OP</td>\n",
       "      <td>IPP Non-CHP</td>\n",
       "      <td>390.1</td>\n",
       "      <td>NG</td>\n",
       "      <td>2003.0</td>\n",
       "      <td>NaN</td>\n",
       "      <td>natural gas</td>\n",
       "    </tr>\n",
       "    <tr>\n",
       "      <th>55132.0_STG1</th>\n",
       "      <td>Tenaska Gateway Partners Ltd</td>\n",
       "      <td>Tenaska Gateway Generating Station</td>\n",
       "      <td>TX</td>\n",
       "      <td>Rusk</td>\n",
       "      <td>OP</td>\n",
       "      <td>IPP Non-CHP</td>\n",
       "      <td>390.0</td>\n",
       "      <td>NG</td>\n",
       "      <td>2001.0</td>\n",
       "      <td>NaN</td>\n",
       "      <td>natural gas</td>\n",
       "    </tr>\n",
       "  </tbody>\n",
       "</table>\n",
       "</div>"
      ],
      "text/plain": [
       "                                utility_name  \\\n",
       "generator_uuid                                 \n",
       "55503.0_ST1             Waterford Power, LLC   \n",
       "55439.0_STG1    Tenaska Virginia Partners LP   \n",
       "55271.0_STG1     Tenaska Alabama Partners LP   \n",
       "55440.0_ST1             Tenaska Alabama B LP   \n",
       "55132.0_STG1    Tenaska Gateway Partners Ltd   \n",
       "\n",
       "                                             plant_name state      county  \\\n",
       "generator_uuid                                                              \n",
       "55503.0_ST1                        Waterford Power, LLC    OH  Washington   \n",
       "55439.0_STG1        Tenaska Virginia Generating Station    VA    Fluvanna   \n",
       "55271.0_STG1    Tenaska Lindsay Hill Generating Station    AL     Autauga   \n",
       "55440.0_ST1      Tenaska Central Alabama Generating Stn    AL     Autauga   \n",
       "55132.0_STG1         Tenaska Gateway Generating Station    TX        Rusk   \n",
       "\n",
       "               status       sector  nameplate_capacity energy_source_1  \\\n",
       "generator_uuid                                                           \n",
       "55503.0_ST1        OP  IPP Non-CHP               399.0              NG   \n",
       "55439.0_STG1       OP  IPP Non-CHP               396.2              NG   \n",
       "55271.0_STG1       OP  IPP Non-CHP               390.1              NG   \n",
       "55440.0_ST1        OP  IPP Non-CHP               390.1              NG   \n",
       "55132.0_STG1       OP  IPP Non-CHP               390.0              NG   \n",
       "\n",
       "                operating_year  planned_retirement_year energy_source  \n",
       "generator_uuid                                                         \n",
       "55503.0_ST1             2003.0                      NaN   natural gas  \n",
       "55439.0_STG1            2004.0                      NaN   natural gas  \n",
       "55271.0_STG1            2002.0                      NaN   natural gas  \n",
       "55440.0_ST1             2003.0                      NaN   natural gas  \n",
       "55132.0_STG1            2001.0                      NaN   natural gas  "
      ]
     },
     "execution_count": 15,
     "metadata": {},
     "output_type": "execute_result"
    }
   ],
   "source": [
    "ng_boom[ng_boom.sector == 'IPP Non-CHP'].sort_values('nameplate_capacity', ascending=False).head()"
   ]
  },
  {
   "cell_type": "code",
   "execution_count": 16,
   "metadata": {},
   "outputs": [
    {
     "data": {
      "text/plain": [
       "<matplotlib.axes._subplots.AxesSubplot at 0x11cf7ebd0>"
      ]
     },
     "execution_count": 16,
     "metadata": {},
     "output_type": "execute_result"
    },
    {
     "data": {
      "image/png": "[encoded data removed]",
      "text/plain": [
       "<Figure size 432x288 with 1 Axes>"
      ]
     },
     "metadata": {
      "needs_background": "light"
     },
     "output_type": "display_data"
    }
   ],
   "source": [
    "(\n",
    "    df[df.sector != 'IPP Non-CHP'].groupby(['operating_year', 'energy_source']).nameplate_capacity.sum().unstack() / 1000\n",
    ").fillna(0).loc[1950:][[\n",
    "    'natural gas',\n",
    "    'coal',\n",
    "    'wind',\n",
    "    'solar', \n",
    "    'nuclear',\n",
    "    # 'oil',\n",
    "]].plot()"
   ]
  },
  {
   "cell_type": "code",
   "execution_count": 17,
   "metadata": {},
   "outputs": [],
   "source": [
    "df_retired = parse_retired(2018)"
   ]
  },
  {
   "cell_type": "code",
   "execution_count": 18,
   "metadata": {},
   "outputs": [],
   "source": [
    "capacity = {}\n",
    "source_stack = [\n",
    "    'nuclear',\n",
    "    'coal',\n",
    "    'oil',\n",
    "    'natural gas',\n",
    "    'wind',\n",
    "    'solar', \n",
    "]\n",
    "for year in range(1950, 2021):\n",
    "    capacity[year] = (\n",
    "        df[\n",
    "            (df.operating_year <= year)\n",
    "        ].groupby('energy_source').nameplate_capacity.sum().reindex(source_stack, fill_value=0) -\n",
    "        df_retired[\n",
    "            (df_retired.retirement_year <= year) &\n",
    "            (df_retired.operating_year <= year)\n",
    "        ].groupby('energy_source').nameplate_capacity.sum().reindex(source_stack, fill_value=0)\n",
    "    )\n",
    "capacity = pd.DataFrame(capacity).fillna(0).T / 1000"
   ]
  },
  {
   "cell_type": "code",
   "execution_count": 19,
   "metadata": {},
   "outputs": [
    {
     "data": {
      "image/png": "[encoded data removed]",
      "text/plain": [
       "<Figure size 432x288 with 1 Axes>"
      ]
     },
     "metadata": {
      "needs_background": "light"
     },
     "output_type": "display_data"
    }
   ],
   "source": [
    "capacity[source_stack].plot(stacked=True);"
   ]
  },
  {
   "cell_type": "code",
   "execution_count": 20,
   "metadata": {},
   "outputs": [],
   "source": [
    "# fig2.2 in report from EIA: https://www.eia.gov/analysis/studies/powerplants/generationcost/pdf/full_report.pdf\n",
    "# and E-GRID data from EPA: https://www.epa.gov/sites/production/files/2020-03/egrid2018_data_v2.xlsx \n",
    "# also suggests that gas capacity boomed in early 2000s"
   ]
  }
 ],
 "metadata": {
  "kernelspec": {
   "display_name": "Python 3",
   "language": "python",
   "name": "python3"
  },
  "language_info": {
   "codemirror_mode": {
    "name": "ipython",
    "version": 3
   },
   "file_extension": ".py",
   "mimetype": "text/x-python",
   "name": "python",
   "nbconvert_exporter": "python",
   "pygments_lexer": "ipython3",
   "version": "3.8.5"
  }
 },
 "nbformat": 4,
 "nbformat_minor": 4
}
