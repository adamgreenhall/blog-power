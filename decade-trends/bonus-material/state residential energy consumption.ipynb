{
 "cells": [
  {
   "cell_type": "code",
   "execution_count": 1,
   "metadata": {},
   "outputs": [],
   "source": [
    "import pandas as pd"
   ]
  },
  {
   "cell_type": "code",
   "execution_count": 9,
   "metadata": {},
   "outputs": [],
   "source": [
    "df = pd.read_excel('https://www.eia.gov/electricity/sales_revenue_price/xls/table5_a.xlsx', skiprows=2).set_index('State')"
   ]
  },
  {
   "cell_type": "code",
   "execution_count": 29,
   "metadata": {},
   "outputs": [
    {
     "data": {
      "text/html": [
       "<div>\n",
       "<style scoped>\n",
       "    .dataframe tbody tr th:only-of-type {\n",
       "        vertical-align: middle;\n",
       "    }\n",
       "\n",
       "    .dataframe tbody tr th {\n",
       "        vertical-align: top;\n",
       "    }\n",
       "\n",
       "    .dataframe thead th {\n",
       "        text-align: right;\n",
       "    }\n",
       "</style>\n",
       "<table border=\"1\" class=\"dataframe\">\n",
       "  <thead>\n",
       "    <tr style=\"text-align: right;\">\n",
       "      <th></th>\n",
       "      <th>Number of Customers</th>\n",
       "      <th>Average Monthly Consumption (kWh)</th>\n",
       "      <th>Average Price (cents/kWh)</th>\n",
       "      <th>Average Monthly Bill (Dollar and cents)</th>\n",
       "    </tr>\n",
       "    <tr>\n",
       "      <th>State</th>\n",
       "      <th></th>\n",
       "      <th></th>\n",
       "      <th></th>\n",
       "      <th></th>\n",
       "    </tr>\n",
       "  </thead>\n",
       "  <tbody>\n",
       "    <tr>\n",
       "      <th>New England</th>\n",
       "      <td>6377606</td>\n",
       "      <td>628.49175</td>\n",
       "      <td>20.603400</td>\n",
       "      <td>129.490670</td>\n",
       "    </tr>\n",
       "    <tr>\n",
       "      <th>Connecticut</th>\n",
       "      <td>1503701</td>\n",
       "      <td>723.84581</td>\n",
       "      <td>21.200764</td>\n",
       "      <td>153.460840</td>\n",
       "    </tr>\n",
       "    <tr>\n",
       "      <th>Maine</th>\n",
       "      <td>709848</td>\n",
       "      <td>571.95355</td>\n",
       "      <td>16.842433</td>\n",
       "      <td>96.330893</td>\n",
       "    </tr>\n",
       "    <tr>\n",
       "      <th>Massachusetts</th>\n",
       "      <td>2784243</td>\n",
       "      <td>607.12714</td>\n",
       "      <td>21.609659</td>\n",
       "      <td>131.198110</td>\n",
       "    </tr>\n",
       "    <tr>\n",
       "      <th>New Hampshire</th>\n",
       "      <td>622671</td>\n",
       "      <td>621.11626</td>\n",
       "      <td>19.685635</td>\n",
       "      <td>122.270680</td>\n",
       "    </tr>\n",
       "  </tbody>\n",
       "</table>\n",
       "</div>"
      ],
      "text/plain": [
       "               Number of Customers  Average Monthly Consumption (kWh)  \\\n",
       "State                                                                   \n",
       "New England                6377606                          628.49175   \n",
       "Connecticut                1503701                          723.84581   \n",
       "Maine                       709848                          571.95355   \n",
       "Massachusetts              2784243                          607.12714   \n",
       "New Hampshire               622671                          621.11626   \n",
       "\n",
       "               Average Price (cents/kWh)  \\\n",
       "State                                      \n",
       "New England                    20.603400   \n",
       "Connecticut                    21.200764   \n",
       "Maine                          16.842433   \n",
       "Massachusetts                  21.609659   \n",
       "New Hampshire                  19.685635   \n",
       "\n",
       "               Average Monthly Bill (Dollar and cents)  \n",
       "State                                                   \n",
       "New England                                 129.490670  \n",
       "Connecticut                                 153.460840  \n",
       "Maine                                        96.330893  \n",
       "Massachusetts                               131.198110  \n",
       "New Hampshire                               122.270680  "
      ]
     },
     "execution_count": 29,
     "metadata": {},
     "output_type": "execute_result"
    }
   ],
   "source": [
    "df.head()"
   ]
  },
  {
   "cell_type": "code",
   "execution_count": 15,
   "metadata": {},
   "outputs": [
    {
     "data": {
      "text/plain": [
       "State\n",
       "Tennessee             1282.8674\n",
       "Louisiana             1281.5624\n",
       "Mississippi           1247.1784\n",
       "East South Central    1237.4873\n",
       "Alabama               1236.4804\n",
       "West South Central    1183.3921\n",
       "Texas                 1175.5237\n",
       "Name: Average Monthly Consumption (kWh), dtype: float64"
      ]
     },
     "execution_count": 15,
     "metadata": {},
     "output_type": "execute_result"
    }
   ],
   "source": [
    "z = df['Average Monthly Consumption (kWh)'].sort_values(ascending=False)\n",
    "z.head(7)"
   ]
  },
  {
   "cell_type": "code",
   "execution_count": 17,
   "metadata": {},
   "outputs": [
    {
     "data": {
      "text/plain": [
       "State\n",
       "Rhode Island             589.01445\n",
       "Alaska                   572.38476\n",
       "Maine                    571.95355\n",
       "Vermont                  559.55513\n",
       "California               546.31121\n",
       "Pacific Noncontiguous    539.47405\n",
       "Hawaii                   517.78387\n",
       "Name: Average Monthly Consumption (kWh), dtype: float64"
      ]
     },
     "execution_count": 17,
     "metadata": {},
     "output_type": "execute_result"
    }
   ],
   "source": [
    "z.tail(7)"
   ]
  },
  {
   "cell_type": "code",
   "execution_count": 20,
   "metadata": {},
   "outputs": [],
   "source": [
    "df_ng = pd.read_excel('https://www.eia.gov/dnav/ng/xls/NG_CONS_PNS_A_EPG0_VRP_PCT_A.xls', sheet_name='Data 1', skiprows=2).set_index('Date')"
   ]
  },
  {
   "cell_type": "code",
   "execution_count": 27,
   "metadata": {},
   "outputs": [
    {
     "data": {
      "text/plain": [
       "U.S.                     100.00\n",
       "Alabama                    0.70\n",
       "Alaska                     0.37\n",
       "Arizona                    0.70\n",
       "Arkansas                   0.70\n",
       "California                 8.48\n",
       "Colorado                   2.57\n",
       "Connecticut                1.06\n",
       "Delaware                   0.24\n",
       "District of Columbia       0.26\n",
       "Florida                    0.34\n",
       "Georgia                    2.66\n",
       "Hawaii                     0.01\n",
       "Idaho                      0.55\n",
       "Illinois                   8.77\n",
       "Indiana                    2.89\n",
       "Iowa                       1.42\n",
       "Kansas                     1.34\n",
       "Kentucky                   1.03\n",
       "Louisiana                  0.76\n",
       "Maine                      0.06\n",
       "Maryland                   1.73\n",
       "Massachusetts              2.61\n",
       "Michigan                   6.54\n",
       "Minnesota                  2.83\n",
       "Mississippi                0.49\n",
       "Missouri                   2.28\n",
       "Montana                    0.45\n",
       "Nebraska                   0.85\n",
       "Nevada                     0.84\n",
       "New Hampshire              0.16\n",
       "New Jersey                 4.96\n",
       "New Mexico                 0.69\n",
       "New York                   9.72\n",
       "North Carolina             1.47\n",
       "North Dakota               0.25\n",
       "Ohio                       6.03\n",
       "Oklahoma                   1.35\n",
       "Oregon                     0.85\n",
       "Pennsylvania               5.06\n",
       "Rhode Island               0.41\n",
       "South Carolina             0.62\n",
       "South Dakota               0.29\n",
       "Tennessee                  1.49\n",
       "Texas                      4.54\n",
       "Utah                       1.35\n",
       "Vermont                    0.08\n",
       "Virginia                   1.78\n",
       "Washington                 1.67\n",
       "West Virginia              0.53\n",
       "Wisconsin                  2.89\n",
       "Wyoming                    0.26\n",
       "Name: 2018-06-30 00:00:00, dtype: float64"
      ]
     },
     "execution_count": 27,
     "metadata": {},
     "output_type": "execute_result"
    }
   ],
   "source": [
    "df_ng.rename(columns={c: c.replace('Natural Gas % of Total Residential Deliveries (%)', '') for c in df_ng.columns}).loc['2018-06-30']"
   ]
  },
  {
   "cell_type": "code",
   "execution_count": null,
   "metadata": {},
   "outputs": [],
   "source": []
  }
 ],
 "metadata": {
  "kernelspec": {
   "display_name": "Python 3",
   "language": "python",
   "name": "python3"
  },
  "language_info": {
   "codemirror_mode": {
    "name": "ipython",
    "version": 3
   },
   "file_extension": ".py",
   "mimetype": "text/x-python",
   "name": "python",
   "nbconvert_exporter": "python",
   "pygments_lexer": "ipython3",
   "version": "3.7.7"
  }
 },
 "nbformat": 4,
 "nbformat_minor": 4
}
